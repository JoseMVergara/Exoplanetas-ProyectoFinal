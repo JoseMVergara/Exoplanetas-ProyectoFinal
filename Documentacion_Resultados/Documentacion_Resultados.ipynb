{
 "cells": [
  {
   "cell_type": "markdown",
   "metadata": {},
   "source": [
    "# Resultados Búsqueda de Exoplanetas"
   ]
  },
  {
   "cell_type": "markdown",
   "metadata": {},
   "source": [
    "## Contexto\n",
    "\n",
    "El Observatorio Espacial Kepler es un satélite construido por la NASA que se lanzó en 2009. El telescopio está dedicado a la búsqueda de exoplanetas en sistemas estelares además del nuestro, con el objetivo final de posiblemente encontrar otros planetas habitables además del nuestro. La misión original finalizó en 2013 debido a fallas mecánicas, pero el telescopio, sin embargo, ha estado funcionando desde 2014 en una misión extendida \"K2\".\n",
    "\n",
    "Kepler había verificado 1284 nuevos exoplanetas a partir de mayo de 2016. A partir de octubre de 2017, hay más de 3.000 exoplanetas confirmados en total (utilizando todos los métodos de detección, incluidos los terrestres). El telescopio todavía está activo y continúa recopilando nuevos datos en su misión extendida.\n",
    "\n",
    "## Objetivo\n",
    "\n",
    "+ Se pretende dar a conocer algunas características de interés que nos ha arrojado la búsqueda de exoplanetas mediante el la herramienta de la visualización científica empleando Python y algunos de sus paquetes como matplotlib y pandas.\n",
    "\n",
    "## Bases de Datos\n",
    "\n",
    "En este proyecto se usarán 2 bases de Datos:\n",
    "\n",
    "1) Kepler Exoplanets search result\n",
    "\n",
    "2) Open Exoplanet catalogue"
   ]
  },
  {
   "cell_type": "markdown",
   "metadata": {},
   "source": [
    "### Kepler Exoplanets Search Result\n",
    "\n",
    "Este conjunto de datos fue publicado tal cual por la NASA. Puede acceder a la tabla original [Aqui](https://exoplanetarchive.ipac.caltech.edu/docs/API_kepcandidate_columns.html)\n",
    "\n",
    "\n",
    "#### Descripción:\n",
    "Este conjunto de datos es un registro acumulativo de todos los \"objetos de interés\" de Kepler observados, básicamente, todos los aproximadamente 10.000 candidatos exoplanetas sobre los que Kepler ha realizado observaciones.\n",
    "\n",
    "#### Columnas:\n",
    "\n",
    "+ **kepoi_name:**  Un KOI es un objetivo identificado por el Proyecto Kepler que muestra al menos una secuencia similar al tránsito dentro de la fotometría de serie temporal Kepler que parece ser de origen astrofísico e inicialmente consistente con una hipótesis de tránsito planetario\n",
    "+ **kepler_name:** Estos nombres están destinados a indicar claramente una clase de objetos que han sido confirmados o validados como planetas, un paso adelante de la designación de candidatos planetarios.\n",
    "+ **koi_disposition:** La disposición en la literatura hacia este candidato exoplaneta. Uno de CANDIDATO, FALSO POSITIVO, NO DISPOSICIÓN o CONFIRMADO.\n",
    "+ **koi_period:** Periodo Orbital en días.\n",
    "+ **koi_duration:** Duración de transito en horas\n",
    "+ **koi_prad:** Radios de los exoplanetas en radios terrestres\n",
    "+ **koi_teq:** Temperatura de Equilibrio\n",
    "+ **koi_steff:** Temperatura efectiva de la estrella anfitriona\n",
    "+ **koi_srad:**  Radio de las estrellas anfitrionas en radios solares\n",
    "+ **ra:** Ascensión recta\n",
    "+ **dec:** Declinación\n",
    "+ **koi_kepmag:** Magnitud de la estrella anfitriona "
   ]
  },
  {
   "cell_type": "markdown",
   "metadata": {},
   "source": [
    "### Open Exoplanet Catalogue"
   ]
  },
  {
   "cell_type": "markdown",
   "metadata": {},
   "source": [
    "Puedes encontrar este conjunto de datos en el siguiente [enlace](https://github.com/OpenExoplanetCatalogue/open_exoplanet_catalogue)\n",
    "\n",
    "#### Columnas:\n",
    "\n",
    "+ **SemiMajorAxisAU:** Semieje mayor de los planetas en unidades astronómicas\n",
    "+ **PeriodDays:** Periodo orbital en días\n",
    "+ **DistFromSunParsec:** Distancía al Sol\n",
    "+ **HostStarRadiusSlrRad:** Radio de la estrella anfritríona en radios solares\n",
    "+ **HostStarMassSlrMass:** Masa de la estrella anfitríona en masas solares"
   ]
  },
  {
   "cell_type": "markdown",
   "metadata": {},
   "source": [
    "## Resultados Y Analísis"
   ]
  },
  {
   "cell_type": "markdown",
   "metadata": {},
   "source": [
    "A continuacíon se explicarán de forma breve los productos graficos obtenidos"
   ]
  },
  {
   "cell_type": "markdown",
   "metadata": {},
   "source": [
    "### Ascención Recta y Declinación \n",
    "En esta gráfica podemos observar la ascención recta y la declinación, esta es la \"latitud\" y la \"longitud\" de los objetos, por lo que esta trama muestra su posición en el cielo (es un parche muy pequeño en el cielo). El telescopio apuntaba al mismo parche de cielo para toda la misión y es por eso que la distribución se ve de la siguiente manera:\n",
    "![grafica1](Graph1.png)\n"
   ]
  },
  {
   "cell_type": "markdown",
   "metadata": {},
   "source": [
    "### ¿Qué tan grande son los exoplanetas (candidatos y confirmados) ?\n",
    "Aquí podemos ver la cantidad de planetas con radios similares a la tierra, la super tierra, neptuno, jupiter y los que son más grande que este.\n",
    "![grafica2](Graph2.png)"
   ]
  },
  {
   "cell_type": "markdown",
   "metadata": {},
   "source": [
    "### Tamaño de los exoplanetas y temperatura de su estrella anfitríona\n",
    "Se puede ver cuál es la relación entre el tamaño de los planetas (candidatos y confirmados) y su estrella, se hace enfasís en aquellos que son similares a la Tierra o Super tierra y que además orbitan las denominadas \"Estrellas frías\", aquellás estrellas que no poseen una gran temperatura.\n",
    "![grafica3](Graph3.png)"
   ]
  },
  {
   "cell_type": "markdown",
   "metadata": {},
   "source": [
    "### Histograma de Frecuencias de la temperatura de equilibrio de los exoplanetas\n",
    "\n",
    "Observamos un histograma de las temperaturas de equilibrio de los planetas confirmados.\n",
    "\n",
    "De wikipedia:\n",
    "\"La temperatura de equilibrio planetario es una temperatura teórica en la que estaría un planeta cuando se considera simplemente como si se tratara de un cuerpo negro calentado solo por su estrella madre. En este modelo, la presencia o ausencia de una atmósfera (y, por lo tanto, cualquier efecto invernadero) no se considera, y se trata la temperatura teórica del cuerpo negro como si proviniera de una superficie idealizada del planeta.\"\n",
    "\n",
    "¿Cuantós se parecen a la tierra? ¿Cuańtos a Jupiter? \n",
    "\n",
    "![Grafica4](Graph4.png)"
   ]
  },
  {
   "cell_type": "markdown",
   "metadata": {},
   "source": [
    "### Histograma Tamaño de la Estrella Anfitriona - ¿Qué tan grandes son?\n",
    "Observamos ahora un histograma del tamaño de la estrella anfitríona.\n",
    "\n",
    "Hay una gran cantidad de estrellas que se asemejan al Sol. ¿Es mucho más probable encontrar planetas alrededor de las estrellas del tamaño del sol?\n",
    "![Grafica5](Graph5.png)"
   ]
  },
  {
   "cell_type": "markdown",
   "metadata": {},
   "source": [
    "### Histograma Temperatura Efectiva de la estrella anfitríona \n",
    "De wikipedia: \"es la temperatura de su superficie visible. Esta es mucho más baja, en comparación, con las temperaturas que se alcanzan en el núcleo, fuente generadora de la energía que radia la estrella, así mismo también es superada por la Ley enrarecida corona donde el tenue gas ionizado se mueve a altísimas velocidades impulsado por el campo magnético estelar y las ondas de choque convectivas. Pero ambas capas son invisibles de forma directa. Así, el color de una estrella indica su temperatura efectiva a través del espectro desde las frías estrellas rojas de tipo espectral M que radian sobre todo en el infrarrojo hasta las inmensas estrellas azules que tienen su pico de radiación en el ultravioleta. La temperatura efectiva de una estrella indica la cantidad de calor que la estrella radia por unidad de superficie. \"\n",
    "\n",
    "En este histograma seguimos observando que hay una gran cantidad de estrellas similares al Sol\n",
    "![Grafica6](Graph6.png)"
   ]
  },
  {
   "cell_type": "markdown",
   "metadata": {},
   "source": [
    "### Diagrama Hertzsprung Rusell\n",
    "\n",
    "Se representó un diagrama de Hertzsprung Rusell con las estrellas anfitrionas de los exoplanetas\n",
    "\n",
    "De wikipedia: \"es un gráfico de dispersión de estrellas indicando la relación entre las magnitudes absolutas o luminosidades de las estrellas en comparación con sus clasificaciones espectrales o las temperaturas efectivas. De forma más sencilla, en el gráfico se traza cada estrella para medir su brillo en comparación con su temperatura (color).\"\n",
    "\n",
    "La mayoría de las estrellas se clasifican actualmente bajo el sistema Morgan-Keenan (MK) usando las letras O, B, A, F, G, K y M, una secuencia desde la más caliente (tipo O) hasta la más fresca (tipo M).\n",
    "\n",
    "La linea Amarilla representa el Sol, que tiene una clasificación G.\n",
    "\n",
    "Para Calcular la luminosidad usamos la siguiente formula: \n",
    "\n",
    "Luminosidad = $(\\frac{RadioEstrella}{RadioSol})^2 + (\\frac{TemperaturaEstrella}{TemperaturaSol})^4$\n",
    "\n",
    "Temperatura del sol = 5778 k _aproximadamente_\n",
    "\n",
    "![Grafica7](Graph7.png)"
   ]
  },
  {
   "cell_type": "markdown",
   "metadata": {},
   "source": [
    "### ¿Qué tan lejos se encuentran los exoplanetas?\n",
    "\n",
    "Vemos una representación gráfica que nos indica la cantidad de exoplanetas que se encuentran en intervalos determinados de Distancia en años luz.\n",
    "![Grafica8](Graph8.png)"
   ]
  },
  {
   "cell_type": "markdown",
   "metadata": {},
   "source": [
    "### Histograma de Magnitud de la estrella anfitriona\n",
    "\n",
    "De wikipedia: \"La magnitud aparente (m) de un objeto celeste es un número que indica la medida de su brillo tal y como es visto por un observador desde la Tierra y la cantidad de luz (energía) que se recibe del objeto.\"\n",
    "\n",
    "Recordemos que entre más pequeño sea el valor de la magnitud más brillo tendrá el objeto celeste.\n",
    "    \n",
    "Vemos lo que parece ser una distribución bimodal y un corte nítido de alrededor de la 16ª magnitud. Este es probablemente el límite en el que el ruido se hace demasiado para detectar candidatos planetarios.\n",
    "![Grafica9](Graph9.png)"
   ]
  },
  {
   "cell_type": "markdown",
   "metadata": {},
   "source": [
    "### Histograma Duración de Tránsito"
   ]
  },
  {
   "cell_type": "markdown",
   "metadata": {},
   "source": [
    "De wikipedia: \"El tránsito astronómico es un fenómeno durante el cual un astro pasa por delante de otro más grande, bloqueando en cierta medida su visión. El tipo de tránsito más conocido, por su espectacularidad, es el eclipse solar, en el que es la Luna la que cubre la vista del Sol.\n",
    "\n",
    "Los llamados tránsitos planetarios son aquellos que suceden entre un planeta del sistema solar y el Sol. Desde la Tierra son visibles los de aquellos planetas que nos preceden (planetas interiores), es decir, Mercurio y Venus. Estos tránsitos son de extrema importancia ya que han ayudado a calcular las dimensiones del sistema solar, entre ellas la unidad astronómica. El primer astrónomo que se dio cuenta de las posibilidades de estas observaciones fue Edmund Halley (1656-1742).\n",
    "\n",
    "El método del tránsito es el más empleado actualmente en la búsqueda de **planetas extrasolares**. Las misiones Corot (2006) de la ESA, y Kepler (2009) de la NASA, han puesto en órbita satélites con sensores fotométricos del tipo CCD extremadamente sensibles, con los que se espera averiguar el número de planetas existentes en la galaxia, así como encontrar planetas del tamaño y órbita de la Tierra.\"\n",
    "\n",
    "Las duraciones son del orden de horas, con más detecciones en horas más pequeñas, mostrando nuevamente el sesgo de detección hacia órbitas más pequeñas.\n",
    "\n",
    "![grafica10](Graph10.png)"
   ]
  }
 ],
 "metadata": {
  "anaconda-cloud": {},
  "kernelspec": {
   "display_name": "Python [conda root]",
   "language": "python",
   "name": "conda-root-py"
  },
  "language_info": {
   "codemirror_mode": {
    "name": "ipython",
    "version": 2
   },
   "file_extension": ".py",
   "mimetype": "text/x-python",
   "name": "python",
   "nbconvert_exporter": "python",
   "pygments_lexer": "ipython2",
   "version": "2.7.12"
  }
 },
 "nbformat": 4,
 "nbformat_minor": 1
}
